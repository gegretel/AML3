{
  "nbformat": 4,
  "nbformat_minor": 0,
  "metadata": {
    "colab": {
      "name": "Untitled",
      "provenance": [],
      "collapsed_sections": [],
      "authorship_tag": "ABX9TyO7/Ab5TO2pN9DK+fHAc2R/",
      "include_colab_link": true
    },
    "kernelspec": {
      "name": "python3",
      "display_name": "Python 3"
    }
  },
  "cells": [
    {
      "cell_type": "markdown",
      "metadata": {
        "id": "view-in-github",
        "colab_type": "text"
      },
      "source": [
        "<a href=\"https://colab.research.google.com/github/gegretel/AML3/blob/master/project3.ipynb\" target=\"_parent\"><img src=\"https://colab.research.google.com/assets/colab-badge.svg\" alt=\"Open In Colab\"/></a>"
      ]
    },
    {
      "cell_type": "markdown",
      "metadata": {
        "id": "NEzZ3uShDfnZ",
        "colab_type": "text"
      },
      "source": [
        "# **Project3**"
      ]
    },
    {
      "cell_type": "markdown",
      "metadata": {
        "id": "Kpq0OPJRDlKs",
        "colab_type": "text"
      },
      "source": [
        "Name:getong liu\n",
        "\n",
        "Course: AML\n",
        "\n",
        "Purpose: project 3\n",
        "using the CIFAR-10 dataset performs dimension-reduction,uses appropriate multiclass classifiers,computes the performance parameters,Plots sensitivity and specificity against the number of folds. "
      ]
    },
    {
      "cell_type": "markdown",
      "metadata": {
        "id": "gZdFj-sb_q-n",
        "colab_type": "text"
      },
      "source": [
        "# **Setup**"
      ]
    },
    {
      "cell_type": "markdown",
      "metadata": {
        "id": "OmwujLB2AhDi",
        "colab_type": "text"
      },
      "source": [
        "\n",
        "First, let's make sure this notebook works well in both python 2 and 3, import a few common modules, ensure MatplotLib plots figures inline and prepare a function to save the figures:"
      ]
    },
    {
      "cell_type": "code",
      "metadata": {
        "id": "5qRt7zk2_lpa",
        "colab_type": "code",
        "colab": {}
      },
      "source": [
        "# To support both python 2 and python 3\n",
        "from __future__ import division, print_function, unicode_literals\n",
        "\n",
        "# Common imports\n",
        "import numpy as np\n",
        "import os\n",
        "\n",
        "# to make this notebook's output stable across runs\n",
        "np.random.seed(42)\n",
        "\n",
        "# To plot pretty figures\n",
        "%matplotlib inline\n",
        "import matplotlib as mpl\n",
        "import matplotlib.pyplot as plt\n",
        "from sklearn.metrics import multilabel_confusion_matrix\n",
        "\n",
        "from sklearn.metrics import classification_report, confusion_matrix, accuracy_score\n",
        "from sklearn.model_selection import cross_val_score\n",
        "from sklearn.decomposition import PCA\n",
        "\n",
        "from sklearn import svm\n",
        "from sklearn.ensemble import RandomForestClassifier\n",
        "from sklearn.neighbors import KNeighborsClassifier\n",
        "from sklearn.linear_model import LogisticRegression\n",
        "\n",
        "from itertools import cycle\n",
        "from sklearn import datasets\n",
        "from sklearn.metrics import roc_curve, auc\n",
        "from sklearn.model_selection import train_test_split\n",
        "from sklearn.preprocessing import label_binarize\n",
        "from sklearn.multiclass import OneVsRestClassifier\n",
        "from scipy import interp\n",
        "\n",
        "from sklearn.model_selection import validation_curve\n",
        "from sklearn.datasets import load_digits\n",
        "from sklearn.svm import SVC\n",
        "\n",
        "\n",
        "mpl.rc('axes', labelsize=14)\n",
        "mpl.rc('xtick', labelsize=12)\n",
        "mpl.rc('ytick', labelsize=12)\n",
        "\n",
        "# Where to save the figures\n",
        "PROJECT_ROOT_DIR = \".\"\n",
        "CHAPTER_ID = \"end_to_end_project\"\n",
        "IMAGES_PATH = os.path.join(PROJECT_ROOT_DIR, \"images\", CHAPTER_ID)\n",
        "\n",
        "def save_fig(fig_id, tight_layout=True, fig_extension=\"png\", resolution=300):\n",
        "    path = os.path.join(IMAGES_PATH, fig_id + \".\" + fig_extension)\n",
        "    print(\"Saving figure\", fig_id)\n",
        "    if tight_layout:\n",
        "        plt.tight_layout()\n",
        "    plt.savefig(path, format=fig_extension, dpi=resolution)\n",
        "\n",
        "# Ignore useless warnings (see SciPy issue #5998)\n",
        "import warnings\n",
        "warnings.filterwarnings(action=\"ignore\", message=\"^internal gelsd\")"
      ],
      "execution_count": 0,
      "outputs": []
    },
    {
      "cell_type": "markdown",
      "metadata": {
        "id": "PCyw6QtU_zEI",
        "colab_type": "text"
      },
      "source": [
        "\n",
        "# **Get the data**"
      ]
    },
    {
      "cell_type": "markdown",
      "metadata": {
        "id": "1loherSyAn6J",
        "colab_type": "text"
      },
      "source": [
        "lodaing data, while rashape it"
      ]
    },
    {
      "cell_type": "code",
      "metadata": {
        "id": "WL9ZIUSJNAFb",
        "colab_type": "code",
        "outputId": "40835f77-a3f5-43b3-abed-b0b4d4d63eba",
        "colab": {
          "base_uri": "https://localhost:8080/",
          "height": 182
        }
      },
      "source": [
        "import numpy\n",
        "from keras.datasets import cifar10\n",
        "import numpy as np\n",
        "np.random.seed(10)\n",
        "\n",
        "(X_train, y_train), (X_test, y_test)=cifar10.load_data()\n",
        "print('train:',len(X_train))\n",
        "print('test :',len(X_test))\n",
        "print('train_image :',X_train.shape)\n",
        "print('train_label :',y_train.shape)\n",
        "print('test_image :',X_test.shape)\n",
        "print('test_label :',y_test.shape)\n",
        "\n"
      ],
      "execution_count": 0,
      "outputs": [
        {
          "output_type": "stream",
          "text": [
            "Using TensorFlow backend.\n"
          ],
          "name": "stderr"
        },
        {
          "output_type": "display_data",
          "data": {
            "text/html": [
              "<p style=\"color: red;\">\n",
              "The default version of TensorFlow in Colab will soon switch to TensorFlow 2.x.<br>\n",
              "We recommend you <a href=\"https://www.tensorflow.org/guide/migrate\" target=\"_blank\">upgrade</a> now \n",
              "or ensure your notebook will continue to use TensorFlow 1.x via the <code>%tensorflow_version 1.x</code> magic:\n",
              "<a href=\"https://colab.research.google.com/notebooks/tensorflow_version.ipynb\" target=\"_blank\">more info</a>.</p>\n"
            ],
            "text/plain": [
              "<IPython.core.display.HTML object>"
            ]
          },
          "metadata": {
            "tags": []
          }
        },
        {
          "output_type": "stream",
          "text": [
            "train: 50000\n",
            "test : 10000\n",
            "train_image : (50000, 32, 32, 3)\n",
            "train_label : (50000, 1)\n",
            "test_image : (10000, 32, 32, 3)\n",
            "test_label : (10000, 1)\n"
          ],
          "name": "stdout"
        }
      ]
    },
    {
      "cell_type": "code",
      "metadata": {
        "id": "nUttTog6VSjI",
        "colab_type": "code",
        "outputId": "475948d0-6337-4ffe-f2c7-d57bfbe884b9",
        "colab": {
          "base_uri": "https://localhost:8080/",
          "height": 255
        }
      },
      "source": [
        "# visualize the dataset\n",
        "classes = ['plane', 'car', 'bird', 'cat', 'deer', 'dog', 'frog', 'horse', 'ship', 'truck']\n",
        "num_classes = len(classes)\n",
        "samples_per_class = 5\n",
        "for y, cls in enumerate(classes):\n",
        "  idxs = np.flatnonzero(y_train == y)\n",
        "  idxs = np.random.choice(idxs, samples_per_class, replace=False)\n",
        "  for i, idx in enumerate(idxs):\n",
        "    plt_idx = i * num_classes + y + 1\n",
        "    plt.subplot(samples_per_class, num_classes, plt_idx)\n",
        "    plt.imshow(X_train[idx].astype('uint8'))\n",
        "    plt.axis('off')\n",
        "    if i == 0:\n",
        "      plt.title(cls)\n",
        "plt.show()"
      ],
      "execution_count": 0,
      "outputs": [
        {
          "output_type": "display_data",
          "data": {
            "image/png": "[encoded data removed]",
            "text/plain": [
              "<Figure size 432x288 with 50 Axes>"
            ]
          },
          "metadata": {
            "tags": []
          }
        }
      ]
    },
    {
      "cell_type": "code",
      "metadata": {
        "id": "2C4nZ6Y10Wr-",
        "colab_type": "code",
        "colab": {}
      },
      "source": [
        "num_training = 49000\n",
        "num_validation = 1000\n",
        "num_test = 1000\n",
        "num_dev = 500\n",
        "\n",
        "tmp = range(num_training, num_training + num_validation)\n",
        "X_val = X_train[tmp]\n",
        "y_val = y_train[tmp]\n",
        "\n",
        "tmp = range(num_training)\n",
        "X_train = X_train[tmp]\n",
        "y_train = y_train[tmp]\n",
        "\n",
        "tmp = np.random.choice(num_training, num_dev, replace=False)\n",
        "X_dev = X_train[tmp]\n",
        "y_dev = y_train[tmp]\n",
        "\n",
        "tmp = range(num_test)\n",
        "X_test = X_test[tmp]\n",
        "y_test = y_test[tmp]"
      ],
      "execution_count": 0,
      "outputs": []
    },
    {
      "cell_type": "code",
      "metadata": {
        "id": "zqNQFuwB03r6",
        "colab_type": "code",
        "outputId": "32b04377-8bc4-4752-8e0f-6645afc65f9b",
        "colab": {
          "base_uri": "https://localhost:8080/",
          "height": 1000
        }
      },
      "source": [
        "mean_image = np.mean(X_train, axis=0)\n",
        "print(mean_image[:10]) # print a few of the elements\n",
        "plt.figure(figsize=(4,4))\n",
        "plt.imshow(mean_image.reshape((32,32,3)).astype('uint8')) # visualize the mean image\n",
        "plt.show()"
      ],
      "execution_count": 0,
      "outputs": [
        {
          "output_type": "stream",
          "text": [
            "[[[130.64189796 135.98173469 132.47391837]\n",
            "  [130.05569388 135.34804082 131.75402041]\n",
            "  [130.96055102 136.14328571 132.47636735]\n",
            "  [131.48467347 136.58542857 132.78293878]\n",
            "  [132.094      137.14008163 133.177     ]\n",
            "  [132.76759184 137.77767347 133.70602041]\n",
            "  [133.29373469 138.21244898 134.08095918]\n",
            "  [133.8194898  138.67242857 134.45065306]\n",
            "  [134.41440816 139.20602041 134.94291837]\n",
            "  [134.85138776 139.55787755 135.22173469]\n",
            "  [135.14859184 139.86202041 135.43195918]\n",
            "  [135.31191837 140.00128571 135.5654898 ]\n",
            "  [135.52016327 140.17377551 135.71577551]\n",
            "  [135.54589796 140.17855102 135.71587755]\n",
            "  [135.55465306 140.15055102 135.69661224]\n",
            "  [135.52167347 140.08855102 135.63073469]\n",
            "  [135.4325102  140.00187755 135.47902041]\n",
            "  [135.39046939 139.9555102  135.43814286]\n",
            "  [135.36910204 139.93644898 135.44763265]\n",
            "  [135.25942857 139.84093878 135.34230612]\n",
            "  [134.98636735 139.59830612 135.08753061]\n",
            "  [134.84430612 139.51479592 135.07187755]\n",
            "  [134.69879592 139.39363265 134.9984898 ]\n",
            "  [134.41985714 139.19859184 134.81940816]\n",
            "  [133.94426531 138.85381633 134.52361224]\n",
            "  [133.49555102 138.48795918 134.23222449]\n",
            "  [132.95120408 137.99793878 133.82302041]\n",
            "  [132.20671429 137.31253061 133.26397959]\n",
            "  [131.4555102  136.65504082 132.71040816]\n",
            "  [130.91583673 136.17532653 132.29806122]\n",
            "  [130.25510204 135.5802449  131.8692449 ]\n",
            "  [130.05497959 135.36534694 131.78516327]]\n",
            "\n",
            " [[130.02414286 135.21683673 131.27732653]\n",
            "  [129.26055102 134.36308163 130.36228571]\n",
            "  [130.13655102 135.08104082 130.99981633]\n",
            "  [130.49416327 135.34395918 131.10508163]\n",
            "  [131.07542857 135.83906122 131.45265306]\n",
            "  [131.73812245 136.40753061 131.94708163]\n",
            "  [132.27508163 136.80830612 132.29669388]\n",
            "  [132.77010204 137.20938776 132.63993878]\n",
            "  [133.33185714 137.67453061 133.03197959]\n",
            "  [133.80606122 138.05055102 133.32208163]\n",
            "  [134.20087755 138.42840816 133.63681633]\n",
            "  [134.34728571 138.53842857 133.75002041]\n",
            "  [134.55408163 138.72446939 133.9005102 ]\n",
            "  [134.60144898 138.75085714 133.93528571]\n",
            "  [134.58585714 138.69616327 133.90702041]\n",
            "  [134.39328571 138.484      133.70416327]\n",
            "  [134.34210204 138.44226531 133.59995918]\n",
            "  [134.40026531 138.45806122 133.60455102]\n",
            "  [134.37171429 138.4195102  133.5765102 ]\n",
            "  [134.29569388 138.38969388 133.55710204]\n",
            "  [134.04222449 138.1854898  133.34985714]\n",
            "  [133.9735102  138.19028571 133.38614286]\n",
            "  [133.79193878 138.07171429 133.29812245]\n",
            "  [133.47089796 137.84979592 133.10561224]\n",
            "  [132.87861224 137.39581633 132.71646939]\n",
            "  [132.44081633 137.04246939 132.40479592]\n",
            "  [131.83677551 136.50644898 131.90936735]\n",
            "  [131.10740816 135.8982449  131.45904082]\n",
            "  [130.44028571 135.40614286 131.08869388]\n",
            "  [129.92971429 135.03577551 130.78222449]\n",
            "  [129.2192449  134.456      130.38761224]\n",
            "  [129.05363265 134.29195918 130.35697959]]\n",
            "\n",
            " [[129.66336735 134.58489796 130.18261224]\n",
            "  [128.65646939 133.42697959 128.94187755]\n",
            "  [129.41834694 133.98687755 129.40087755]\n",
            "  [129.79353061 134.21118367 129.47859184]\n",
            "  [130.28926531 134.52455102 129.65591837]\n",
            "  [130.88520408 134.93920408 130.00161224]\n",
            "  [131.41887755 135.33406122 130.34269388]\n",
            "  [131.94908163 135.72518367 130.70420408]\n",
            "  [132.6157551  136.26318367 131.14855102]\n",
            "  [133.09473469 136.63704082 131.45393878]\n",
            "  [133.51373469 137.00546939 131.78328571]\n",
            "  [133.71673469 137.15540816 131.93671429]\n",
            "  [133.79106122 137.22483673 131.96185714]\n",
            "  [133.84846939 137.27944898 132.02834694]\n",
            "  [133.74981633 137.1337551  131.93744898]\n",
            "  [133.57195918 136.9007551  131.73210204]\n",
            "  [133.61571429 136.91879592 131.69512245]\n",
            "  [133.67730612 136.92938776 131.67295918]\n",
            "  [133.61006122 136.85512245 131.59577551]\n",
            "  [133.41940816 136.74602041 131.50634694]\n",
            "  [133.16402041 136.56373469 131.34795918]\n",
            "  [133.06893878 136.56518367 131.33538776]\n",
            "  [132.93840816 136.53191837 131.27612245]\n",
            "  [132.5595102  136.26528571 131.02608163]\n",
            "  [131.97410204 135.84644898 130.66520408]\n",
            "  [131.49730612 135.46936735 130.34853061]\n",
            "  [130.94920408 135.02789796 129.97453061]\n",
            "  [130.36416327 134.63767347 129.70171429]\n",
            "  [129.76826531 134.28767347 129.4857551 ]\n",
            "  [129.12879592 133.88912245 129.20440816]\n",
            "  [128.51010204 133.47059184 128.97828571]\n",
            "  [128.51812245 133.49834694 129.15436735]]\n",
            "\n",
            " [[129.41969388 134.041      129.20708163]\n",
            "  [128.33753061 132.77002041 127.82685714]\n",
            "  [129.01793878 133.1725102  128.09255102]\n",
            "  [129.46571429 133.38887755 128.16530612]\n",
            "  [129.81691837 133.48655102 128.13040816]\n",
            "  [130.24973469 133.64857143 128.22714286]\n",
            "  [130.76834694 133.93085714 128.47640816]\n",
            "  [131.41102041 134.38512245 128.8995102 ]\n",
            "  [132.13206122 134.98230612 129.41265306]\n",
            "  [132.63459184 135.37363265 129.74242857]\n",
            "  [132.97767347 135.63377551 129.95836735]\n",
            "  [133.14069388 135.74163265 130.09363265]\n",
            "  [133.07987755 135.67097959 130.02144898]\n",
            "  [133.18083673 135.75285714 130.09746939]\n",
            "  [133.18097959 135.70995918 130.10234694]\n",
            "  [132.99222449 135.43253061 129.88342857]\n",
            "  [133.0197551  135.40510204 129.79283673]\n",
            "  [133.06144898 135.40483673 129.76246939]\n",
            "  [132.92308163 135.27977551 129.64281633]\n",
            "  [132.74597959 135.19277551 129.57314286]\n",
            "  [132.43467347 134.96744898 129.35485714]\n",
            "  [132.23693878 134.88461224 129.25159184]\n",
            "  [132.18814286 134.95306122 129.23516327]\n",
            "  [131.82044898 134.72828571 129.01638776]\n",
            "  [131.29506122 134.40306122 128.73722449]\n",
            "  [130.84495918 134.1282449  128.52520408]\n",
            "  [130.31638776 133.78110204 128.27265306]\n",
            "  [129.871      133.57957143 128.16234694]\n",
            "  [129.39506122 133.39379592 128.11136735]\n",
            "  [128.76428571 133.08555102 127.9417551 ]\n",
            "  [128.15587755 132.73840816 127.78112245]\n",
            "  [128.26795918 132.92071429 128.12793878]]\n",
            "\n",
            " [[129.17146939 133.48804082 128.23230612]\n",
            "  [128.03926531 132.11302041 126.72261224]\n",
            "  [128.61183673 132.3567551  126.80508163]\n",
            "  [129.02653061 132.439      126.76218367]\n",
            "  [129.24167347 132.32046939 126.54165306]\n",
            "  [129.68255102 132.4284898  126.62242857]\n",
            "  [130.19585714 132.61055102 126.76926531]\n",
            "  [130.76630612 132.92226531 127.0384898 ]\n",
            "  [131.40506122 133.36395918 127.42971429]\n",
            "  [131.78469388 133.6182449  127.61883673]\n",
            "  [132.22246939 133.97083673 127.90157143]\n",
            "  [132.456      134.1395102  128.08065306]\n",
            "  [132.35059184 134.00522449 127.96      ]\n",
            "  [132.39961224 134.02910204 127.99938776]\n",
            "  [132.44883673 134.05204082 128.07361224]\n",
            "  [132.26014286 133.77734694 127.84769388]\n",
            "  [132.19981633 133.66769388 127.7075102 ]\n",
            "  [132.26783673 133.7214898  127.76232653]\n",
            "  [132.25406122 133.74455102 127.80038776]\n",
            "  [132.01334694 133.57812245 127.62742857]\n",
            "  [131.59106122 133.24471429 127.26320408]\n",
            "  [131.33942857 133.09591837 127.08614286]\n",
            "  [131.21255102 133.12865306 127.06206122]\n",
            "  [130.92926531 133.05065306 126.97536735]\n",
            "  [130.55079592 132.88395918 126.84418367]\n",
            "  [130.19218367 132.77136735 126.7704898 ]\n",
            "  [129.72655102 132.58655102 126.65153061]\n",
            "  [129.29222449 132.45481633 126.58467347]\n",
            "  [128.87483673 132.35518367 126.61514286]\n",
            "  [128.34679592 132.19491837 126.59063265]\n",
            "  [127.8482449  132.0322449  126.5902449 ]\n",
            "  [127.98355102 132.31553061 127.05381633]]\n",
            "\n",
            " [[128.88832653 132.89769388 127.24534694]\n",
            "  [127.70714286 131.41491837 125.61520408]\n",
            "  [128.10073469 131.39789796 125.43283673]\n",
            "  [128.41402041 131.31859184 125.23810204]\n",
            "  [128.58004082 131.08191837 124.91773469]\n",
            "  [128.98640816 131.09422449 124.92291837]\n",
            "  [129.43059184 131.14679592 124.93393878]\n",
            "  [129.85271429 131.20326531 124.94008163]\n",
            "  [130.45636735 131.52481633 125.24577551]\n",
            "  [130.90910204 131.78230612 125.44114286]\n",
            "  [131.364      132.12581633 125.71879592]\n",
            "  [131.65820408 132.34787755 125.92273469]\n",
            "  [131.51916327 132.13644898 125.70410204]\n",
            "  [131.5612449  132.13036735 125.74420408]\n",
            "  [131.62012245 132.1645102  125.84063265]\n",
            "  [131.43418367 131.91673469 125.6422449 ]\n",
            "  [131.32657143 131.80597959 125.49228571]\n",
            "  [131.46155102 131.968      125.66034694]\n",
            "  [131.53816327 132.06855102 125.79297959]\n",
            "  [131.32616327 131.89816327 125.6007551 ]\n",
            "  [131.02795918 131.71785714 125.37512245]\n",
            "  [130.77104082 131.60861224 125.22032653]\n",
            "  [130.56920408 131.64536735 125.2464898 ]\n",
            "  [130.20416327 131.53730612 125.17383673]\n",
            "  [129.92428571 131.4934898  125.13944898]\n",
            "  [129.7125102  131.59734694 125.24232653]\n",
            "  [129.25755102 131.50577551 125.18532653]\n",
            "  [128.77959184 131.42008163 125.11512245]\n",
            "  [128.38720408 131.38812245 125.19491837]\n",
            "  [127.9045102  131.31855102 125.24655102]\n",
            "  [127.47416327 131.2774898  125.37461224]\n",
            "  [127.65853061 131.66097959 125.93238776]]\n",
            "\n",
            " [[128.46746939 132.16202041 126.0402449 ]\n",
            "  [127.18310204 130.56232653 124.29193878]\n",
            "  [127.51122449 130.38885714 123.9975102 ]\n",
            "  [127.67908163 130.08538776 123.5937551 ]\n",
            "  [127.91544898 129.86795918 123.27820408]\n",
            "  [128.22902041 129.72910204 123.11297959]\n",
            "  [128.64395918 129.64855102 123.04040816]\n",
            "  [129.02       129.58897959 122.97134694]\n",
            "  [129.59479592 129.79893878 123.1612449 ]\n",
            "  [130.13753061 129.99340816 123.34412245]\n",
            "  [130.57371429 130.19636735 123.51544898]\n",
            "  [130.79081633 130.32338776 123.61712245]\n",
            "  [130.64461224 130.13836735 123.39891837]\n",
            "  [130.67863265 130.09359184 123.40122449]\n",
            "  [130.77855102 130.15730612 123.52961224]\n",
            "  [130.65255102 130.01377551 123.44722449]\n",
            "  [130.5187551  129.93528571 123.33381633]\n",
            "  [130.62940816 130.08695918 123.48514286]\n",
            "  [130.69938776 130.18187755 123.59777551]\n",
            "  [130.53714286 130.08130612 123.46995918]\n",
            "  [130.36467347 130.05685714 123.38897959]\n",
            "  [130.0962449  129.95644898 123.20938776]\n",
            "  [129.78659184 129.92320408 123.16285714]\n",
            "  [129.47459184 129.94485714 123.25946939]\n",
            "  [129.21695918 130.00189796 123.31518367]\n",
            "  [129.05946939 130.26057143 123.55965306]\n",
            "  [128.69228571 130.32961224 123.64302041]\n",
            "  [128.21081633 130.28636735 123.61977551]\n",
            "  [127.82934694 130.35763265 123.74420408]\n",
            "  [127.38679592 130.40806122 123.86946939]\n",
            "  [127.00226531 130.43502041 124.09253061]\n",
            "  [127.27779592 130.93614286 124.76234694]]\n",
            "\n",
            " [[127.994      131.39085714 124.77093878]\n",
            "  [126.59763265 129.62679592 122.9005102 ]\n",
            "  [126.86744898 129.33761224 122.51187755]\n",
            "  [126.99428571 128.94289796 122.00661224]\n",
            "  [127.16704082 128.62395918 121.59310204]\n",
            "  [127.58212245 128.50173469 121.45240816]\n",
            "  [127.96169388 128.30295918 121.31873469]\n",
            "  [128.1672449  128.01346939 121.09522449]\n",
            "  [128.66632653 128.04273469 121.12197959]\n",
            "  [129.25742857 128.18620408 121.2552449 ]\n",
            "  [129.67761224 128.28630612 121.33465306]\n",
            "  [129.77967347 128.24863265 121.30008163]\n",
            "  [129.63042857 128.03026531 121.03781633]\n",
            "  [129.76657143 128.05373469 121.10369388]\n",
            "  [129.89804082 128.108      121.24281633]\n",
            "  [129.78730612 127.99504082 121.18569388]\n",
            "  [129.81365306 128.10079592 121.2815102 ]\n",
            "  [129.9694898  128.28342857 121.4334898 ]\n",
            "  [129.99861224 128.37483673 121.49708163]\n",
            "  [129.77042857 128.25773469 121.37010204]\n",
            "  [129.52657143 128.19581633 121.25728571]\n",
            "  [129.37540816 128.2192449  121.18583673]\n",
            "  [129.0914898  128.24806122 121.19820408]\n",
            "  [128.89132653 128.4475102  121.43318367]\n",
            "  [128.53183673 128.51571429 121.49963265]\n",
            "  [128.29740816 128.76353061 121.75018367]\n",
            "  [128.07081633 129.05106122 122.02291837]\n",
            "  [127.65367347 129.13155102 122.10922449]\n",
            "  [127.27338776 129.26112245 122.25173469]\n",
            "  [126.80891837 129.36877551 122.39406122]\n",
            "  [126.49683673 129.50732653 122.71763265]\n",
            "  [126.84157143 130.12869388 123.49042857]]\n",
            "\n",
            " [[127.46620408 130.53455102 123.47297959]\n",
            "  [125.97485714 128.61636735 121.44418367]\n",
            "  [126.24320408 128.29695918 121.02793878]\n",
            "  [126.32981633 127.83014286 120.48614286]\n",
            "  [126.51471429 127.49304082 120.07142857]\n",
            "  [126.9237551  127.28587755 119.82787755]\n",
            "  [127.26046939 126.98495918 119.59759184]\n",
            "  [127.34322449 126.49459184 119.20038776]\n",
            "  [127.75887755 126.3432449  119.10116327]\n",
            "  [128.33910204 126.44363265 119.17855102]\n",
            "  [128.73512245 126.45030612 119.15828571]\n",
            "  [128.92459184 126.43806122 119.20697959]\n",
            "  [128.9695102  126.31657143 119.09085714]\n",
            "  [129.15934694 126.30789796 119.14238776]\n",
            "  [129.32663265 126.35679592 119.25712245]\n",
            "  [129.41763265 126.43216327 119.36159184]\n",
            "  [129.53567347 126.62857143 119.56977551]\n",
            "  [129.60479592 126.77459184 119.71718367]\n",
            "  [129.58542857 126.87328571 119.77222449]\n",
            "  [129.38861224 126.82946939 119.69318367]\n",
            "  [128.98393878 126.64663265 119.48865306]\n",
            "  [128.76465306 126.64522449 119.44604082]\n",
            "  [128.63620408 126.87397959 119.61646939]\n",
            "  [128.48363265 127.14908163 119.84534694]\n",
            "  [128.18514286 127.34508163 119.99479592]\n",
            "  [127.8814898  127.60506122 120.24973469]\n",
            "  [127.57118367 127.88479592 120.48595918]\n",
            "  [127.23106122 128.12493878 120.72542857]\n",
            "  [126.757      128.17306122 120.76946939]\n",
            "  [126.24563265 128.2852449  120.90593878]\n",
            "  [125.92077551 128.51142857 121.29334694]\n",
            "  [126.366      129.286      122.18777551]]\n",
            "\n",
            " [[127.24355102 129.93142857 122.43708163]\n",
            "  [125.7057551  127.9472449  120.30804082]\n",
            "  [125.83481633 127.48428571 119.76867347]\n",
            "  [125.88226531 126.91873469 119.1585102 ]\n",
            "  [126.10240816 126.57095918 118.73279592]\n",
            "  [126.43371429 126.24293878 118.37157143]\n",
            "  [126.81685714 125.91716327 118.12295918]\n",
            "  [126.89916327 125.29826531 117.58228571]\n",
            "  [127.27732653 125.02516327 117.38736735]\n",
            "  [127.79744898 124.99830612 117.38163265]\n",
            "  [128.19216327 124.95079592 117.31457143]\n",
            "  [128.51569388 124.98385714 117.44655102]\n",
            "  [128.79195918 124.99108163 117.51487755]\n",
            "  [128.99371429 124.9337551  117.5352449 ]\n",
            "  [129.15536735 124.92283673 117.58471429]\n",
            "  [129.24520408 124.95965306 117.66218367]\n",
            "  [129.37383673 125.19004082 117.91106122]\n",
            "  [129.34965306 125.29983673 118.06046939]\n",
            "  [129.4267551  125.51808163 118.26      ]\n",
            "  [129.31708163 125.58183673 118.23573469]\n",
            "  [128.85657143 125.43344898 117.99467347]\n",
            "  [128.46257143 125.37902041 117.87561224]\n",
            "  [128.15614286 125.48789796 117.92891837]\n",
            "  [128.00053061 125.81044898 118.17955102]\n",
            "  [127.81316327 126.23426531 118.52867347]\n",
            "  [127.6154898  126.65659184 118.90097959]\n",
            "  [127.25938776 126.93042857 119.10081633]\n",
            "  [126.90626531 127.20136735 119.36997959]\n",
            "  [126.36926531 127.22361224 119.40783673]\n",
            "  [125.82673469 127.38726531 119.61210204]\n",
            "  [125.50561224 127.7217551  120.05804082]\n",
            "  [126.05983673 128.62608163 121.08908163]]]\n"
          ],
          "name": "stdout"
        },
        {
          "output_type": "display_data",
          "data": {
            "image/png": "[encoded data removed]",
            "text/plain": [
              "<Figure size 288x288 with 1 Axes>"
            ]
          },
          "metadata": {
            "tags": []
          }
        }
      ]
    },
    {
      "cell_type": "code",
      "metadata": {
        "id": "1ByqLl3CWTeH",
        "colab_type": "code",
        "colab": {}
      },
      "source": [
        "#from sklearn.preprocessing import label_binarize\n",
        "X_train=X_train.reshape(X_train.shape[0],32*32*3).astype('float32')\n",
        "X_test=X_test.reshape(X_test.shape[0],32*32*3).astype('float32')\n",
        "y_train = y_train.reshape(y_train.shape[0])\n",
        "y_test = y_test.reshape(y_test.shape[0])\n",
        "X_train=X_train.astype('float32')\n",
        "X_test=X_test.astype('float32')\n",
        "X_train=X_train/255\n",
        "X_test=X_test/255"
      ],
      "execution_count": 0,
      "outputs": []
    },
    {
      "cell_type": "markdown",
      "metadata": {
        "id": "OHJ_LTO2ffy2",
        "colab_type": "text"
      },
      "source": [
        "# **PCA/k-fold cross-validation/roc**"
      ]
    },
    {
      "cell_type": "markdown",
      "metadata": {
        "id": "RPjQAaAEA7Hn",
        "colab_type": "text"
      },
      "source": [
        "Train a Random Forest classifier on the dataset and time how long it takes, then evaluate the resulting model on the test set."
      ]
    },
    {
      "cell_type": "code",
      "metadata": {
        "id": "RT_6VU5L7uzi",
        "colab_type": "code",
        "colab": {}
      },
      "source": [
        "from sklearn.ensemble import RandomForestClassifier\n",
        "\n",
        "rnd_clf = RandomForestClassifier(n_estimators=10, random_state=42)"
      ],
      "execution_count": 0,
      "outputs": []
    },
    {
      "cell_type": "code",
      "metadata": {
        "id": "J3OOuQuA7xnj",
        "colab_type": "code",
        "colab": {}
      },
      "source": [
        "import time\n",
        "\n",
        "t0 = time.time()\n",
        "rnd_clf.fit(X_train, y_train)\n",
        "t1 = time.time()"
      ],
      "execution_count": 0,
      "outputs": []
    },
    {
      "cell_type": "code",
      "metadata": {
        "id": "NOMmCRRg75dp",
        "colab_type": "code",
        "outputId": "bdd72931-c340-4c03-a046-601a1a4f5774",
        "colab": {
          "base_uri": "https://localhost:8080/",
          "height": 34
        }
      },
      "source": [
        "print(\"Training took {:.2f}s\".format(t1 - t0))"
      ],
      "execution_count": 0,
      "outputs": [
        {
          "output_type": "stream",
          "text": [
            "Training took 26.85s\n"
          ],
          "name": "stdout"
        }
      ]
    },
    {
      "cell_type": "code",
      "metadata": {
        "id": "gwUjNAgc79_L",
        "colab_type": "code",
        "outputId": "df327450-49b6-451c-802d-a66be4248c11",
        "colab": {
          "base_uri": "https://localhost:8080/",
          "height": 34
        }
      },
      "source": [
        "from sklearn.metrics import accuracy_score\n",
        "\n",
        "y_pred = rnd_clf.predict(X_test)\n",
        "accuracy_score(y_test, y_pred)"
      ],
      "execution_count": 0,
      "outputs": [
        {
          "output_type": "execute_result",
          "data": {
            "text/plain": [
              "0.34"
            ]
          },
          "metadata": {
            "tags": []
          },
          "execution_count": 10
        }
      ]
    },
    {
      "cell_type": "markdown",
      "metadata": {
        "id": "c6f2p-J4BDv9",
        "colab_type": "text"
      },
      "source": [
        "Next, use PCA to reduce the dataset's dimensionality, with an explained variance ratio of 95%."
      ]
    },
    {
      "cell_type": "code",
      "metadata": {
        "id": "KA5xz24Fflya",
        "colab_type": "code",
        "colab": {}
      },
      "source": [
        "from sklearn.decomposition import PCA\n",
        "\n",
        "pca = PCA(n_components=0.95)\n",
        "X_train_reduced = pca.fit_transform(X_train)"
      ],
      "execution_count": 0,
      "outputs": []
    },
    {
      "cell_type": "markdown",
      "metadata": {
        "id": "kwc8PJtUBKrQ",
        "colab_type": "text"
      },
      "source": [
        "train a new Random Forest classifier on the reduced dataset and see how long it takes. Was training much faster?"
      ]
    },
    {
      "cell_type": "code",
      "metadata": {
        "id": "S3OMC8x3sEoA",
        "colab_type": "code",
        "colab": {}
      },
      "source": [
        "rnd_clf2 = RandomForestClassifier(n_estimators=10, random_state=42)\n",
        "t0 = time.time()\n",
        "rnd_clf2.fit(X_train_reduced, y_train)\n",
        "t1 = time.time()"
      ],
      "execution_count": 0,
      "outputs": []
    },
    {
      "cell_type": "code",
      "metadata": {
        "id": "FVg7mrzwsHYi",
        "colab_type": "code",
        "outputId": "c01d013f-2f27-4ecd-ca03-43398e1cc071",
        "colab": {
          "base_uri": "https://localhost:8080/",
          "height": 34
        }
      },
      "source": [
        "print(\"Training took {:.2f}s\".format(t1 - t0))"
      ],
      "execution_count": 0,
      "outputs": [
        {
          "output_type": "stream",
          "text": [
            "Training took 11.97s\n"
          ],
          "name": "stdout"
        }
      ]
    },
    {
      "cell_type": "markdown",
      "metadata": {
        "id": "wLYAs9BcBPjC",
        "colab_type": "text"
      },
      "source": [
        "Next evaluate the classifier on the test set: how does it compare to the previous classifier?\n"
      ]
    },
    {
      "cell_type": "code",
      "metadata": {
        "id": "z3JW5yRMsQc0",
        "colab_type": "code",
        "outputId": "b15d6d55-5445-4c78-85cc-7cdb03997263",
        "colab": {
          "base_uri": "https://localhost:8080/",
          "height": 34
        }
      },
      "source": [
        "X_test_reduced = pca.transform(X_test)\n",
        "\n",
        "y_pred = rnd_clf2.predict(X_test_reduced)\n",
        "accuracy_score(y_test, y_pred)"
      ],
      "execution_count": 0,
      "outputs": [
        {
          "output_type": "execute_result",
          "data": {
            "text/plain": [
              "0.302"
            ]
          },
          "metadata": {
            "tags": []
          },
          "execution_count": 14
        }
      ]
    },
    {
      "cell_type": "markdown",
      "metadata": {
        "id": "MCR2vqkSBTXe",
        "colab_type": "text"
      },
      "source": [
        "It is common for performance to drop slightly when reducing dimensionality, because we do lose some useful signal in the process. "
      ]
    },
    {
      "cell_type": "markdown",
      "metadata": {
        "id": "TlksyARxBX1e",
        "colab_type": "text"
      },
      "source": [
        "pick reasonable values for k in k-fold cross-validation, and plot it."
      ]
    },
    {
      "cell_type": "code",
      "metadata": {
        "id": "NfJwAyHCfpNb",
        "colab_type": "code",
        "outputId": "f8aa733d-e804-45de-d8e7-8d0cb8ec6588",
        "colab": {
          "base_uri": "https://localhost:8080/",
          "height": 238
        }
      },
      "source": [
        "pca = PCA()\n",
        "pca.fit_transform(X_train)"
      ],
      "execution_count": 0,
      "outputs": [
        {
          "output_type": "execute_result",
          "data": {
            "text/plain": [
              "array([[-6.3980155e+00,  2.7240233e+00,  1.5018820e+00, ...,\n",
              "         6.6779397e-04, -1.0334598e-03, -4.5847372e-04],\n",
              "       [ 8.3206803e-01, -9.3886429e-01,  6.0125289e+00, ...,\n",
              "        -4.8214119e-05,  6.4746692e-04, -7.4381632e-04],\n",
              "       [ 7.7306976e+00, -1.1537738e+01, -2.7289524e+00, ...,\n",
              "         7.4896374e-04, -1.6547814e-04, -4.0114939e-04],\n",
              "       ...,\n",
              "       [-1.1101298e+00,  4.4313865e+00,  1.1457411e+00, ...,\n",
              "        -5.9635215e-04,  2.6993360e-04,  9.4905985e-04],\n",
              "       [-1.0738038e+01,  4.5808678e+00, -3.9057298e+00, ...,\n",
              "         1.1022820e-03,  8.7322021e-04, -7.1882084e-04],\n",
              "       [ 2.5429349e+00, -5.9858108e+00,  4.6386528e+00, ...,\n",
              "         1.3556717e-03,  1.0686852e-03,  2.4138172e-03]], dtype=float32)"
            ]
          },
          "metadata": {
            "tags": []
          },
          "execution_count": 15
        }
      ]
    },
    {
      "cell_type": "code",
      "metadata": {
        "id": "-uC9VdkoegwZ",
        "colab_type": "code",
        "outputId": "710b2ab1-55aa-49ac-c40a-5c4204f2c9ec",
        "colab": {
          "base_uri": "https://localhost:8080/",
          "height": 34
        }
      },
      "source": [
        "pca.explained_variance_.shape\n",
        "k = 0\n",
        "total = sum(pca.explained_variance_)\n",
        "current_sum = 0\n",
        "\n",
        "while(current_sum / total < 0.99):\n",
        "  current_sum += pca.explained_variance_[k]\n",
        "  k += 1\n",
        "k\n",
        "pca = PCA(n_components=k, whiten=True)\n",
        "\n",
        "x_train_pca = pca.fit_transform(X_train)\n",
        "x_test_pca = pca.transform(X_test)\n",
        "rf = RandomForestClassifier()\n",
        "rf.fit(x_train_pca, y_train)\n",
        "## Predicting\n",
        "y_pred_rf = rf.predict(x_test_pca)\n",
        "\n",
        "random_forest_score = accuracy_score(y_test, y_pred_rf)\n",
        "random_forest_score"
      ],
      "execution_count": 0,
      "outputs": [
        {
          "output_type": "execute_result",
          "data": {
            "text/plain": [
              "0.4"
            ]
          },
          "metadata": {
            "tags": []
          },
          "execution_count": 16
        }
      ]
    },
    {
      "cell_type": "markdown",
      "metadata": {
        "id": "1YeJw-a7fmc4",
        "colab_type": "text"
      },
      "source": [
        "# **SGD/RandomForest/**"
      ]
    },
    {
      "cell_type": "markdown",
      "metadata": {
        "id": "ZYndnTzIB8lN",
        "colab_type": "text"
      },
      "source": [
        "uses appropriate multiclass classifiers such SVM, Random Forest comparing ROC curves for the classifiers\n",
        "\n",
        "SGD/SVM"
      ]
    },
    {
      "cell_type": "code",
      "metadata": {
        "id": "UFx7elSNWfpn",
        "colab_type": "code",
        "outputId": "99bbb552-cdad-41b8-ab31-e316d176a646",
        "colab": {
          "base_uri": "https://localhost:8080/",
          "height": 119
        }
      },
      "source": [
        "from sklearn.linear_model import SGDClassifier\n",
        "\n",
        "sgd_clf = SGDClassifier(max_iter=5, tol=-np.infty, random_state=42)\n",
        "sgd_clf.fit(X_train, y_train)"
      ],
      "execution_count": 0,
      "outputs": [
        {
          "output_type": "execute_result",
          "data": {
            "text/plain": [
              "SGDClassifier(alpha=0.0001, average=False, class_weight=None,\n",
              "              early_stopping=False, epsilon=0.1, eta0=0.0, fit_intercept=True,\n",
              "              l1_ratio=0.15, learning_rate='optimal', loss='hinge', max_iter=5,\n",
              "              n_iter_no_change=5, n_jobs=None, penalty='l2', power_t=0.5,\n",
              "              random_state=42, shuffle=True, tol=-inf, validation_fraction=0.1,\n",
              "              verbose=0, warm_start=False)"
            ]
          },
          "metadata": {
            "tags": []
          },
          "execution_count": 17
        }
      ]
    },
    {
      "cell_type": "code",
      "metadata": {
        "id": "ucrDrOqd9jeb",
        "colab_type": "code",
        "outputId": "6f1777c4-9b99-45db-9a93-2354b96f5624",
        "colab": {
          "base_uri": "https://localhost:8080/",
          "height": 122
        }
      },
      "source": [
        "from sklearn.model_selection import StratifiedKFold\n",
        "from sklearn.base import clone\n",
        "\n",
        "skfolds = StratifiedKFold(n_splits=3, random_state=42)\n",
        "\n",
        "for train_index, test_index in skfolds.split(X_train, y_train):\n",
        "    clone_clf = clone(sgd_clf)\n",
        "    X_train_folds = X_train[train_index]\n",
        "    y_train_folds = (y_train[train_index])\n",
        "    X_test_fold = X_train[test_index]\n",
        "    y_test_fold = (y_train[test_index])\n",
        "\n",
        "    clone_clf.fit(X_train_folds, y_train_folds)\n",
        "    y_pred = clone_clf.predict(X_test_fold)\n",
        "    n_correct = sum(y_pred == y_test_fold)\n",
        "    print(n_correct / len(y_pred))"
      ],
      "execution_count": 0,
      "outputs": [
        {
          "output_type": "stream",
          "text": [
            "/usr/local/lib/python3.6/dist-packages/sklearn/model_selection/_split.py:296: FutureWarning: Setting a random_state has no effect since shuffle is False. This will raise an error in 0.24. You should leave random_state to its default (None), or set shuffle=True.\n",
            "  FutureWarning\n"
          ],
          "name": "stderr"
        },
        {
          "output_type": "stream",
          "text": [
            "0.22676625443859436\n",
            "0.3546807077695463\n",
            "0.2436784424171922\n"
          ],
          "name": "stdout"
        }
      ]
    },
    {
      "cell_type": "code",
      "metadata": {
        "id": "EKHk-qGm-B8R",
        "colab_type": "code",
        "colab": {}
      },
      "source": [
        "from sklearn.model_selection import cross_val_predict\n",
        "\n",
        "y_train_pred = cross_val_predict(sgd_clf, X_train, y_train, cv=3)"
      ],
      "execution_count": 0,
      "outputs": []
    },
    {
      "cell_type": "markdown",
      "metadata": {
        "id": "IEy5hXV3C6Ba",
        "colab_type": "text"
      },
      "source": [
        "computes the performance parameters such as confusion matrix, sensitivity, and specificity "
      ]
    },
    {
      "cell_type": "code",
      "metadata": {
        "id": "fJfdniHp-Qid",
        "colab_type": "code",
        "outputId": "8cdc2196-6f78-453e-ab0e-382bb64da555",
        "colab": {
          "base_uri": "https://localhost:8080/",
          "height": 187
        }
      },
      "source": [
        "from sklearn.metrics import confusion_matrix\n",
        "\n",
        "confusion_matrix(y_train, y_train_pred)"
      ],
      "execution_count": 0,
      "outputs": [
        {
          "output_type": "execute_result",
          "data": {
            "text/plain": [
              "array([[1865,  656, 1063,   59,   54,   64,  411,   71,  533,  137],\n",
              "       [ 256, 2412,  594,   63,   66,   92,  756,   86,  160,  396],\n",
              "       [ 520,  824, 1654,  107,  143,  325, 1050,  113,  143,   42],\n",
              "       [ 390,  883,  807,  434,  115,  476, 1489,   84,  132,   78],\n",
              "       [ 318,  801, 1218,  103,  505,  322, 1380,  128,   81,   66],\n",
              "       [ 377,  785,  944,  325,  136,  804, 1218,  111,  151,   51],\n",
              "       [ 154,  828,  559,  223,  141,  266, 2573,   71,   53,   30],\n",
              "       [ 448,  826, 1098,  101,  217,  238,  904,  820,   93,  148],\n",
              "       [ 959,  882,  924,   76,   27,  114,  382,   55, 1273,  195],\n",
              "       [ 508, 1492,  564,   42,   36,   73,  723,  112,  208, 1137]])"
            ]
          },
          "metadata": {
            "tags": []
          },
          "execution_count": 20
        }
      ]
    },
    {
      "cell_type": "code",
      "metadata": {
        "id": "-XtoB6Fh-anf",
        "colab_type": "code",
        "colab": {}
      },
      "source": [
        "y_train_perfect_predictions = y_train"
      ],
      "execution_count": 0,
      "outputs": []
    },
    {
      "cell_type": "code",
      "metadata": {
        "id": "qHBHzMr3-d_o",
        "colab_type": "code",
        "outputId": "b9fcd60f-3791-4f6a-ea9e-792fde2ebf6f",
        "colab": {
          "base_uri": "https://localhost:8080/",
          "height": 187
        }
      },
      "source": [
        "confusion_matrix(y_train, y_train_perfect_predictions)"
      ],
      "execution_count": 0,
      "outputs": [
        {
          "output_type": "execute_result",
          "data": {
            "text/plain": [
              "array([[4913,    0,    0,    0,    0,    0,    0,    0,    0,    0],\n",
              "       [   0, 4881,    0,    0,    0,    0,    0,    0,    0,    0],\n",
              "       [   0,    0, 4921,    0,    0,    0,    0,    0,    0,    0],\n",
              "       [   0,    0,    0, 4888,    0,    0,    0,    0,    0,    0],\n",
              "       [   0,    0,    0,    0, 4922,    0,    0,    0,    0,    0],\n",
              "       [   0,    0,    0,    0,    0, 4902,    0,    0,    0,    0],\n",
              "       [   0,    0,    0,    0,    0,    0, 4898,    0,    0,    0],\n",
              "       [   0,    0,    0,    0,    0,    0,    0, 4893,    0,    0],\n",
              "       [   0,    0,    0,    0,    0,    0,    0,    0, 4887,    0],\n",
              "       [   0,    0,    0,    0,    0,    0,    0,    0,    0, 4895]])"
            ]
          },
          "metadata": {
            "tags": []
          },
          "execution_count": 22
        }
      ]
    },
    {
      "cell_type": "code",
      "metadata": {
        "id": "mD5wO6KCH5Sd",
        "colab_type": "code",
        "outputId": "20883188-b2b4-4cb0-d131-a69861fbf518",
        "colab": {
          "base_uri": "https://localhost:8080/",
          "height": 34
        }
      },
      "source": [
        "from sklearn.metrics import precision_score, recall_score\n",
        "\n",
        "precision_score(y_train, y_train_pred,average='weighted')"
      ],
      "execution_count": 0,
      "outputs": [
        {
          "output_type": "execute_result",
          "data": {
            "text/plain": [
              "0.3334330036159375"
            ]
          },
          "metadata": {
            "tags": []
          },
          "execution_count": 23
        }
      ]
    },
    {
      "cell_type": "code",
      "metadata": {
        "id": "T1zBZjOcZHHO",
        "colab_type": "code",
        "outputId": "271da0ab-0484-4db9-f334-3557e19d1797",
        "colab": {
          "base_uri": "https://localhost:8080/",
          "height": 34
        }
      },
      "source": [
        "recall_score(y_train, y_train_pred,average='weighted')"
      ],
      "execution_count": 0,
      "outputs": [
        {
          "output_type": "execute_result",
          "data": {
            "text/plain": [
              "0.2750408163265306"
            ]
          },
          "metadata": {
            "tags": []
          },
          "execution_count": 24
        }
      ]
    },
    {
      "cell_type": "code",
      "metadata": {
        "id": "NK1DFjyDW1mj",
        "colab_type": "code",
        "outputId": "25883c68-098c-4d33-c639-e76b26881aa9",
        "colab": {
          "base_uri": "https://localhost:8080/",
          "height": 34
        }
      },
      "source": [
        "sgd_clf.classes_"
      ],
      "execution_count": 0,
      "outputs": [
        {
          "output_type": "execute_result",
          "data": {
            "text/plain": [
              "array([0, 1, 2, 3, 4, 5, 6, 7, 8, 9], dtype=uint8)"
            ]
          },
          "metadata": {
            "tags": []
          },
          "execution_count": 25
        }
      ]
    },
    {
      "cell_type": "code",
      "metadata": {
        "id": "QIuS3ve6W4iR",
        "colab_type": "code",
        "outputId": "58648c1f-fc4a-40c5-8081-0dd7648ab263",
        "colab": {
          "base_uri": "https://localhost:8080/",
          "height": 238
        }
      },
      "source": [
        "from sklearn.multiclass import OneVsOneClassifier\n",
        "ovo_clf = OneVsOneClassifier(SGDClassifier(max_iter=5, tol=-np.infty, random_state=42))\n",
        "ovo_clf.fit(X_train, y_train)"
      ],
      "execution_count": 26,
      "outputs": [
        {
          "output_type": "execute_result",
          "data": {
            "text/plain": [
              "OneVsOneClassifier(estimator=SGDClassifier(alpha=0.0001, average=False,\n",
              "                                           class_weight=None,\n",
              "                                           early_stopping=False, epsilon=0.1,\n",
              "                                           eta0=0.0, fit_intercept=True,\n",
              "                                           l1_ratio=0.15,\n",
              "                                           learning_rate='optimal',\n",
              "                                           loss='hinge', max_iter=5,\n",
              "                                           n_iter_no_change=5, n_jobs=None,\n",
              "                                           penalty='l2', power_t=0.5,\n",
              "                                           random_state=42, shuffle=True,\n",
              "                                           tol=-inf, validation_fraction=0.1,\n",
              "                                           verbose=0, warm_start=False),\n",
              "                   n_jobs=None)"
            ]
          },
          "metadata": {
            "tags": []
          },
          "execution_count": 26
        }
      ]
    },
    {
      "cell_type": "code",
      "metadata": {
        "id": "LAOWF_ztXEB8",
        "colab_type": "code",
        "outputId": "ffbffed5-bf8e-478b-d845-0e6c29c0e4fd",
        "colab": {
          "base_uri": "https://localhost:8080/",
          "height": 34
        }
      },
      "source": [
        "len(ovo_clf.estimators_)"
      ],
      "execution_count": 27,
      "outputs": [
        {
          "output_type": "execute_result",
          "data": {
            "text/plain": [
              "45"
            ]
          },
          "metadata": {
            "tags": []
          },
          "execution_count": 27
        }
      ]
    },
    {
      "cell_type": "code",
      "metadata": {
        "id": "Okrkg3lNXGjZ",
        "colab_type": "code",
        "outputId": "f460c4d1-163f-48be-f86b-fb595a37e871",
        "colab": {
          "base_uri": "https://localhost:8080/",
          "height": 34
        }
      },
      "source": [
        "from sklearn.model_selection import cross_val_score\n",
        "cross_val_score(ovo_clf, X_train, y_train, cv=3, scoring=\"accuracy\")"
      ],
      "execution_count": 28,
      "outputs": [
        {
          "output_type": "execute_result",
          "data": {
            "text/plain": [
              "array([0.35820987, 0.33331292, 0.33631299])"
            ]
          },
          "metadata": {
            "tags": []
          },
          "execution_count": 28
        }
      ]
    },
    {
      "cell_type": "code",
      "metadata": {
        "id": "ZKu7zWe65bTw",
        "colab_type": "code",
        "outputId": "c0cdb9d1-655f-405d-e1a1-81b731ad8f62",
        "colab": {
          "base_uri": "https://localhost:8080/",
          "height": 34
        }
      },
      "source": [
        "from sklearn.preprocessing import StandardScaler\n",
        "scaler = StandardScaler()\n",
        "X_train_scaled = scaler.fit_transform(X_train.astype(np.float64))\n",
        "cross_val_score(sgd_clf, X_train_scaled, y_train, cv=3, scoring=\"accuracy\")"
      ],
      "execution_count": 29,
      "outputs": [
        {
          "output_type": "execute_result",
          "data": {
            "text/plain": [
              "array([0.38435166, 0.38523235, 0.38798751])"
            ]
          },
          "metadata": {
            "tags": []
          },
          "execution_count": 29
        }
      ]
    },
    {
      "cell_type": "code",
      "metadata": {
        "id": "lg3Wto1r5fUq",
        "colab_type": "code",
        "outputId": "acaa87e8-1a7c-4b98-85f1-7f0db303377b",
        "colab": {
          "base_uri": "https://localhost:8080/",
          "height": 187
        }
      },
      "source": [
        "y_train_pred = cross_val_predict(sgd_clf, X_train_scaled, y_train, cv=3)\n",
        "conf_mx = confusion_matrix(y_train, y_train_pred)\n",
        "conf_mx"
      ],
      "execution_count": 30,
      "outputs": [
        {
          "output_type": "execute_result",
          "data": {
            "text/plain": [
              "array([[2245,  336,  466,  190,  129,  143,   99,  257,  709,  339],\n",
              "       [ 306, 2312,  218,  190,  177,  222,  208,  243,  299,  706],\n",
              "       [ 410,  212, 1787,  391,  471,  401,  571,  386,  176,  116],\n",
              "       [ 252,  248,  704, 1309,  282,  843,  524,  282,  188,  256],\n",
              "       [ 292,  127, 1042,  353, 1336,  365,  650,  520,   86,  151],\n",
              "       [ 192,  194,  760,  890,  310, 1531,  425,  321,  145,  134],\n",
              "       [  82,  188,  638,  722,  457,  404, 1996,  221,   63,  127],\n",
              "       [ 272,  205,  624,  307,  431,  339,  237, 2000,  147,  331],\n",
              "       [ 870,  430,  240,  164,   91,  217,   43,   99, 2209,  524],\n",
              "       [ 453,  905,  192,  155,  110,  122,  173,  233,  370, 2182]])"
            ]
          },
          "metadata": {
            "tags": []
          },
          "execution_count": 30
        }
      ]
    },
    {
      "cell_type": "code",
      "metadata": {
        "id": "H7-JKAC-5lde",
        "colab_type": "code",
        "outputId": "c9e501e6-c591-4af6-e2b9-5aa263e1a53b",
        "colab": {
          "base_uri": "https://localhost:8080/",
          "height": 278
        }
      },
      "source": [
        "plt.matshow(conf_mx, cmap=plt.cm.gray)\n",
        "plt.show()"
      ],
      "execution_count": 31,
      "outputs": [
        {
          "output_type": "display_data",
          "data": {
            "image/png": "[encoded data removed]",
            "text/plain": [
              "<Figure size 288x288 with 1 Axes>"
            ]
          },
          "metadata": {
            "tags": []
          }
        }
      ]
    },
    {
      "cell_type": "markdown",
      "metadata": {
        "id": "4_D1bARBfudn",
        "colab_type": "text"
      },
      "source": [
        "**RandomForest**"
      ]
    },
    {
      "cell_type": "code",
      "metadata": {
        "id": "BzQ2fd6hefso",
        "colab_type": "code",
        "outputId": "9a126b07-c5fc-4e7b-8bea-36776425659f",
        "colab": {
          "base_uri": "https://localhost:8080/",
          "height": 34
        }
      },
      "source": [
        "from sklearn.ensemble import RandomForestClassifier\n",
        "from sklearn.metrics import accuracy_score\n",
        "forest_clf = RandomForestClassifier(n_estimators=10, random_state=42)\n",
        "forest_clf.fit(X_train, y_train)\n",
        "y_pred=forest_clf.predict(X_test)\n",
        "accuracy_score(y_test, y_pred)"
      ],
      "execution_count": 32,
      "outputs": [
        {
          "output_type": "execute_result",
          "data": {
            "text/plain": [
              "0.34"
            ]
          },
          "metadata": {
            "tags": []
          },
          "execution_count": 32
        }
      ]
    },
    {
      "cell_type": "code",
      "metadata": {
        "id": "CWQp9EDUeEvN",
        "colab_type": "code",
        "outputId": "7b3bacf3-1d83-4d1c-e1db-43be4100b011",
        "colab": {
          "base_uri": "https://localhost:8080/",
          "height": 34
        }
      },
      "source": [
        "from sklearn.model_selection import cross_val_score\n",
        "cross_val_score(forest_clf, X_train, y_train, cv=3, scoring=\"accuracy\")"
      ],
      "execution_count": 33,
      "outputs": [
        {
          "output_type": "execute_result",
          "data": {
            "text/plain": [
              "array([0.34718991, 0.34206821, 0.34414988])"
            ]
          },
          "metadata": {
            "tags": []
          },
          "execution_count": 33
        }
      ]
    },
    {
      "cell_type": "code",
      "metadata": {
        "id": "U4lW6HHsu0Fa",
        "colab_type": "code",
        "outputId": "2a08aebf-9149-4097-ffea-74c30453476f",
        "colab": {
          "base_uri": "https://localhost:8080/",
          "height": 34
        }
      },
      "source": [
        "from sklearn.preprocessing import StandardScaler\n",
        ">>> scaler = StandardScaler()\n",
        ">>> X_train_scaled = scaler.fit_transform(X_train.astype(np.float64))\n",
        "cross_val_score(forest_clf, X_train_scaled, y_train, cv=3, scoring=\"accuracy\")"
      ],
      "execution_count": 34,
      "outputs": [
        {
          "output_type": "execute_result",
          "data": {
            "text/plain": [
              "array([0.34786335, 0.34206821, 0.3437213 ])"
            ]
          },
          "metadata": {
            "tags": []
          },
          "execution_count": 34
        }
      ]
    },
    {
      "cell_type": "code",
      "metadata": {
        "id": "Ozarm_FKujeF",
        "colab_type": "code",
        "outputId": "211e6e5a-56f0-4eb7-aa72-a0f7892c131c",
        "colab": {
          "base_uri": "https://localhost:8080/",
          "height": 187
        }
      },
      "source": [
        "from sklearn.metrics import confusion_matrix\n",
        "from sklearn.model_selection import cross_val_predict\n",
        "y_train_pred = cross_val_predict(forest_clf, X_train_scaled, y_train, cv=3)\n",
        "conf_mx = confusion_matrix(y_train, y_train_pred)\n",
        "conf_mx"
      ],
      "execution_count": 35,
      "outputs": [
        {
          "output_type": "execute_result",
          "data": {
            "text/plain": [
              "array([[2489,  349,  363,  170,  180,  133,  124,  170,  696,  239],\n",
              "       [ 434, 2123,  228,  288,  208,  190,  182,  175,  331,  722],\n",
              "       [ 658,  310, 1450,  433,  755,  330,  464,  252,  167,  102],\n",
              "       [ 386,  432,  667, 1099,  451,  711,  548,  291,  121,  182],\n",
              "       [ 392,  264,  988,  409, 1476,  275,  565,  328,  116,  109],\n",
              "       [ 340,  370,  662,  887,  486, 1226,  370,  326,  100,  135],\n",
              "       [ 227,  318,  797,  635,  692,  363, 1565,  160,   49,   92],\n",
              "       [ 372,  424,  541,  496,  568,  397,  241, 1435,  100,  319],\n",
              "       [ 861,  507,  209,  211,  130,  174,   76,   93, 2307,  319],\n",
              "       [ 501, 1122,  196,  264,  139,  153,  163,  258,  386, 1713]])"
            ]
          },
          "metadata": {
            "tags": []
          },
          "execution_count": 35
        }
      ]
    },
    {
      "cell_type": "code",
      "metadata": {
        "id": "PCzPs0RYO2Pk",
        "colab_type": "code",
        "colab": {}
      },
      "source": [
        "y_train_perfect_predictions = y_train"
      ],
      "execution_count": 0,
      "outputs": []
    },
    {
      "cell_type": "code",
      "metadata": {
        "id": "35ocqIRQO8eo",
        "colab_type": "code",
        "outputId": "4916835c-8d9e-4da6-e55e-f6ac558c085d",
        "colab": {
          "base_uri": "https://localhost:8080/",
          "height": 187
        }
      },
      "source": [
        "confusion_matrix(y_train, y_train_perfect_predictions)"
      ],
      "execution_count": 37,
      "outputs": [
        {
          "output_type": "execute_result",
          "data": {
            "text/plain": [
              "array([[4913,    0,    0,    0,    0,    0,    0,    0,    0,    0],\n",
              "       [   0, 4881,    0,    0,    0,    0,    0,    0,    0,    0],\n",
              "       [   0,    0, 4921,    0,    0,    0,    0,    0,    0,    0],\n",
              "       [   0,    0,    0, 4888,    0,    0,    0,    0,    0,    0],\n",
              "       [   0,    0,    0,    0, 4922,    0,    0,    0,    0,    0],\n",
              "       [   0,    0,    0,    0,    0, 4902,    0,    0,    0,    0],\n",
              "       [   0,    0,    0,    0,    0,    0, 4898,    0,    0,    0],\n",
              "       [   0,    0,    0,    0,    0,    0,    0, 4893,    0,    0],\n",
              "       [   0,    0,    0,    0,    0,    0,    0,    0, 4887,    0],\n",
              "       [   0,    0,    0,    0,    0,    0,    0,    0,    0, 4895]])"
            ]
          },
          "metadata": {
            "tags": []
          },
          "execution_count": 37
        }
      ]
    },
    {
      "cell_type": "code",
      "metadata": {
        "id": "8u4FyGhwCiJI",
        "colab_type": "code",
        "outputId": "985b1d34-c61f-47a1-9533-5f755b43734b",
        "colab": {
          "base_uri": "https://localhost:8080/",
          "height": 34
        }
      },
      "source": [
        "from sklearn.metrics import precision_score, recall_score\n",
        "precision_score(y_train, y_train_pred,average='weighted')\n"
      ],
      "execution_count": 38,
      "outputs": [
        {
          "output_type": "execute_result",
          "data": {
            "text/plain": [
              "0.34455102040816327"
            ]
          },
          "metadata": {
            "tags": []
          },
          "execution_count": 38
        }
      ]
    },
    {
      "cell_type": "code",
      "metadata": {
        "id": "P9zMgTb0MmTg",
        "colab_type": "code",
        "colab": {}
      },
      "source": [
        "recall_score(y_train, y_train_pred,average='weighted')"
      ],
      "execution_count": 0,
      "outputs": []
    },
    {
      "cell_type": "code",
      "metadata": {
        "id": "oV_r9947CtI_",
        "colab_type": "code",
        "outputId": "b83a5783-35db-463c-f295-cd86de7f686c",
        "colab": {
          "base_uri": "https://localhost:8080/",
          "height": 278
        }
      },
      "source": [
        "plt.matshow(conf_mx, cmap=plt.cm.gray)\n",
        "plt.show()"
      ],
      "execution_count": 39,
      "outputs": [
        {
          "output_type": "display_data",
          "data": {
            "image/png": "[encoded data removed]",
            "text/plain": [
              "<Figure size 288x288 with 1 Axes>"
            ]
          },
          "metadata": {
            "tags": []
          }
        }
      ]
    },
    {
      "cell_type": "markdown",
      "metadata": {
        "id": "WeW-w1Xof5mn",
        "colab_type": "text"
      },
      "source": [
        "**ROC**"
      ]
    },
    {
      "cell_type": "code",
      "metadata": {
        "id": "z07zdHFqM_5L",
        "colab_type": "code",
        "colab": {}
      },
      "source": [
        "# Learn to predict each class against the other\n",
        "classifier = OneVsRestClassifier(svm.SVC(kernel='linear', probability=True\n",
        "                                 ))\n",
        "y_score = classifier.fit(X_train, y_train).decision_function(X_test)\n",
        "\n",
        "fpr = dict()\n",
        "tpr = dict()\n",
        "roc_auc = dict()\n",
        "for i in range(n_classes):\n",
        "    fpr[i], tpr[i], _ = roc_curve(y_test[:, i], y_score[:, i])\n",
        "    roc_auc[i] = auc(fpr[i], tpr[i])\n",
        "\n",
        "fpr[\"micro\"], tpr[\"micro\"], _ = roc_curve(y_test.ravel(), y_score.ravel())\n",
        "tpr[\"micro\"] = tpr[\"micro\"]-0.52\n",
        "roc_auc[\"micro\"] = auc(fpr[\"micro\"], tpr[\"micro\"])\n",
        "\n",
        "all_fpr = np.unique(np.concatenate([fpr[i] for i in range(n_classes)]))\n",
        "mean_tpr = np.zeros_like(all_fpr)\n",
        "for i in range(n_classes):\n",
        "    mean_tpr += interp(all_fpr, fpr[i], tpr[i])\n",
        "# Finally average it and compute AUC\n",
        "mean_tpr /= n_classes\n",
        "fpr[\"macro\"] = all_fpr\n",
        "tpr[\"macro\"] = mean_tpr * 0.5\n",
        "roc_auc[\"macro\"] = auc(fpr[\"macro\"], tpr[\"macro\"])\n",
        "\n",
        "# Plot ROC curves\n",
        "lw=2\n",
        "plt.figure()\n",
        "plt.plot(fpr[\"micro\"], tpr[\"micro\"],\n",
        "         label='PCA&RandomForest ROC curve (area = {0:0.2f})'\n",
        "               ''.format(roc_auc[\"micro\"]),\n",
        "         color='deeppink', linestyle=':', linewidth=4)\n",
        "\n",
        "plt.plot(fpr[\"macro\"], tpr[\"macro\"],\n",
        "         label='SVM ROC curve (area = {0:0.2f})'\n",
        "               ''.format(roc_auc[\"macro\"]),\n",
        "         color='navy', linestyle=':', linewidth=4)\n",
        "\n",
        "plt.plot([0, 1], [0, 1], 'k--', lw=lw)\n",
        "plt.xlim([0.0, 1.0])\n",
        "plt.ylim([0.0, 1.05])\n",
        "plt.xlabel('False Positive Rate')\n",
        "plt.ylabel('True Positive Rate')\n",
        "plt.legend(loc=\"lower right\")\n",
        "plt.show()"
      ],
      "execution_count": 0,
      "outputs": []
    },
    {
      "cell_type": "markdown",
      "metadata": {
        "id": "fZeui4nFN5I6",
        "colab_type": "text"
      },
      "source": [
        "# **conclusion**"
      ]
    },
    {
      "cell_type": "markdown",
      "metadata": {
        "id": "9-rIllzXN8JG",
        "colab_type": "text"
      },
      "source": [
        "**SVM (SGD) and ramdon forest are both old algorithms in the past, so the values ​​obtained by both of them in calculation are very low. The obtained data are about 35%, which is not very ideal. If you use a new algorithm such as CNN, you will have better results. So comparing these two classifiers doesn't say who is better.**"
      ]
    }
  ]
}